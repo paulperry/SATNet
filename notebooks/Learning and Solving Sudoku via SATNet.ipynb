{
 "cells": [
  {
   "cell_type": "code",
   "execution_count": 1,
   "metadata": {},
   "outputs": [],
   "source": [
    "import os\n",
    "import sys\n",
    "import shutil\n",
    "import argparse\n",
    "from collections import namedtuple\n",
    "\n",
    "import numpy as np\n",
    "import numpy.random as npr\n",
    "\n",
    "import torch\n",
    "import torch.nn as nn\n",
    "import torch.optim as optim\n",
    "import torch.nn.functional as F\n",
    "from torch.utils.data import TensorDataset, DataLoader\n",
    "\n",
    "%matplotlib inline\n",
    "import matplotlib.pyplot as plt\n",
    "from IPython.display import display, Markdown, Latex, clear_output"
   ]
  },
  {
   "cell_type": "code",
   "execution_count": 2,
   "metadata": {},
   "outputs": [
    {
     "name": "stdout",
     "output_type": "stream",
     "text": [
      "Using GeForce GTX 1080 Ti\n"
     ]
    }
   ],
   "source": [
    "import tqdm\n",
    "\n",
    "if not torch.cuda.is_available(): \n",
    "    print('[WARNING] Not using GPU.')\n",
    "    print('Please select \"Runtime -> Change runtime type\" and switch to GPU for better performance')\n",
    "else:\n",
    "    print('Using', torch.cuda.get_device_name(0))"
   ]
  },
  {
   "cell_type": "markdown",
   "metadata": {},
   "source": [
    "# Introduction to SATNet"
   ]
  },
  {
   "cell_type": "markdown",
   "metadata": {},
   "source": [
    "SATNet is a differentiable (smoothed) maximum satisfiability (MAXSAT) solver that can be integrated into the loop of larger deep learning systems.  Our (approximate) solver is based upon a fast coordinate descent approach to solving the semidefinite program (SDP) associated with the MAXSAT problem.\n",
    "\n",
    "The code below reproduces the Sudoku experiments from our paper \"SATNet: Bridging deep learning and logical reasoning using a differentiable satisfiability solver.\" These experiments show that by integrating the SATNet solver into end-to-end learning systems, we can learn the logical structure of challenging problems in a minimally supervised fashion. In particular, this notebook shows how we can learn to:\n",
    "* Play **9×9 Sudoku (original and permuted)** solely from examples.\n",
    "* Solve a **\"visual Sudoku\"** problem that maps images of Sudoku puzzles to their associated logical solutions. \n",
    "\n",
    "For more details and discussion about these experiments, please see the [SATNet paper](https://icml.cc/Conferences/2019/Schedule?showEvent=3947)."
   ]
  },
  {
   "cell_type": "code",
   "execution_count": 3,
   "metadata": {},
   "outputs": [
    {
     "name": "stdout",
     "output_type": "stream",
     "text": [
      "SATNet document\n",
      " Apply a SATNet layer to complete the input probabilities.\n",
      "\n",
      "    Args:\n",
      "        n: Number of input variables.\n",
      "        m: Rank of the clause matrix.\n",
      "        aux: Number of auxiliary variables.\n",
      "\n",
      "        max_iter: Maximum number of iterations for solving\n",
      "            the inner optimization problem.\n",
      "            Default: 40\n",
      "        eps: The stopping threshold for the inner optimizaiton problem.\n",
      "            The inner Mixing method will stop when the function decrease\n",
      "            is less then eps times the initial function decrease.\n",
      "            Default: 1e-4\n",
      "        prox_lam: The diagonal increment in the backward linear system\n",
      "            to make the backward pass more stable.\n",
      "            Default: 1e-2\n",
      "        weight_normalize: Set true to perform normlization for init weights.\n",
      "            Default: True\n",
      "\n",
      "    Inputs: (z, is_input)\n",
      "        **z** of shape `(batch, n)`: \n",
      "            Float tensor containing the probabilities (must be in [0,1]).\n",
      "        **is_input** of shape `(batch, n)`: \n",
      "            Int tensor indicating which **z** is a input.\n",
      "\n",
      "    Outputs: z\n",
      "        **z** of shape `(batch, n)`:\n",
      "            The prediction probabiolities.\n",
      "\n",
      "    Attributes: S\n",
      "        **S** of shape `(n, m)`:\n",
      "            The learnable clauses matrix containing `m` clauses \n",
      "            for the `n` variables.\n",
      "\n",
      "    Examples:\n",
      "        >>> sat = satnet.SATNet(3, 4, aux=5)\n",
      "        >>> z = torch.randn(2, 3)\n",
      "        >>> is_input = torch.IntTensor([[1, 1, 0], [1,0,1]])\n",
      "        >>> pred = sat(z, is_input)\n",
      "    \n"
     ]
    }
   ],
   "source": [
    "import satnet\n",
    "print('SATNet document\\n', satnet.SATNet.__doc__)"
   ]
  },
  {
   "cell_type": "code",
   "execution_count": 4,
   "metadata": {},
   "outputs": [
    {
     "data": {
      "text/plain": [
       "True"
      ]
     },
     "execution_count": 4,
     "metadata": {},
     "output_type": "execute_result"
    }
   ],
   "source": [
    "torch.cuda.is_available()"
   ]
  },
  {
   "cell_type": "markdown",
   "metadata": {},
   "source": [
    "# Building SATNet-based Models"
   ]
  },
  {
   "cell_type": "markdown",
   "metadata": {},
   "source": [
    "To solve **Sudoku** and a **permuted version of Sudoku**: We construct a SATNet-based SudokuSolver layer that takes as input a logical (bit) representation of the initial Sudoku board along with a mask representing which bits must be learned (i.e. all bits in empty Sudoku cells). This input is vectorized. Given this input, the SudokuSolver layer then outputs a bit representation of the Sudoku board with guesses for the unknown bits."
   ]
  },
  {
   "cell_type": "code",
   "execution_count": 5,
   "metadata": {},
   "outputs": [],
   "source": [
    "class SudokuSolver(nn.Module):\n",
    "    def __init__(self, boardSz, aux, m):\n",
    "        super(SudokuSolver, self).__init__()\n",
    "        n = boardSz**6\n",
    "        self.sat = satnet.SATNet(n, m, aux)\n",
    "\n",
    "    def forward(self, y_in, mask):\n",
    "        out = self.sat(y_in, mask)\n",
    "        del y_in, mask\n",
    "        return out"
   ]
  },
  {
   "cell_type": "markdown",
   "metadata": {},
   "source": [
    "To solve **\"visual Sudoku\"**: We construct a (standard) convolutional neural network for MNIST digit recognition and train it end-to-end with our SudokuSolver layer. This architecture takes in an image representation of a Sudoku board constructed with MNIST digits. Each MNIST digit is classified by the convolutional network, and the resulting (estimated) logical representation of the initial Sudoku board is then fed as input to the SudokuSolver layer. (As described earlier, the SudokuSolver layer then outputs a bit representation of the Sudoku board with guesses for the unknown bits.)"
   ]
  },
  {
   "cell_type": "code",
   "execution_count": 6,
   "metadata": {},
   "outputs": [],
   "source": [
    "class DigitConv(nn.Module):\n",
    "    '''\n",
    "    Convolutional neural network for MNIST digit recognition. From:\n",
    "    https://github.com/pytorch/examples/blob/master/mnist/main.py\n",
    "    '''\n",
    "    def __init__(self):\n",
    "        super(DigitConv, self).__init__()\n",
    "        self.conv1 = nn.Conv2d(1, 20, 5, 1)\n",
    "        self.conv2 = nn.Conv2d(20, 50, 5, 1)\n",
    "        self.fc1 = nn.Linear(4*4*50, 500)\n",
    "        self.fc2 = nn.Linear(500, 10)\n",
    "\n",
    "    def forward(self, x):\n",
    "        x = F.relu(self.conv1(x))\n",
    "        x = F.max_pool2d(x, 2, 2)\n",
    "        x = F.relu(self.conv2(x))\n",
    "        x = F.max_pool2d(x, 2, 2)\n",
    "        x = x.view(-1, 4*4*50)\n",
    "        x = F.relu(self.fc1(x))\n",
    "        x = self.fc2(x)\n",
    "        return F.softmax(x, dim=1)[:,:9].contiguous()\n",
    "\n",
    "class MNISTSudokuSolver(nn.Module):\n",
    "    def __init__(self, boardSz, aux, m):\n",
    "        super(MNISTSudokuSolver, self).__init__()\n",
    "        self.digit_convnet = DigitConv()\n",
    "        self.sudoku_solver = SudokuSolver(boardSz, aux, m)\n",
    "        self.boardSz = boardSz\n",
    "        self.nSq = boardSz**2\n",
    "    \n",
    "    def forward(self, x, is_inputs):\n",
    "        nBatch = x.shape[0]\n",
    "        x = x.flatten(start_dim = 0, end_dim = 1)\n",
    "        digit_guess = self.digit_convnet(x)\n",
    "        puzzles = digit_guess.view(nBatch, self.nSq * self.nSq * self.nSq)\n",
    "\n",
    "        solution = self.sudoku_solver(puzzles, is_inputs)\n",
    "        return solution"
   ]
  },
  {
   "cell_type": "code",
   "execution_count": 7,
   "metadata": {},
   "outputs": [],
   "source": [
    "sys.path.insert(0, os.path.abspath('../'))"
   ]
  },
  {
   "cell_type": "markdown",
   "metadata": {},
   "source": [
    "The experimental parameters we use in the paper are below."
   ]
  },
  {
   "cell_type": "code",
   "execution_count": 8,
   "metadata": {},
   "outputs": [],
   "source": [
    "from exps.sudoku import train, test, FigLogger, find_unperm\n",
    "args_dict = {'lr': 2e-3, \n",
    "             'cuda': torch.cuda.is_available(), \n",
    "             'batchSz': 128,\n",
    "             'mnistBatchSz': 50,\n",
    "             'boardSz': 3, # for 9x9 Sudoku\n",
    "             'm': 600,\n",
    "             'aux': 300,\n",
    "             'nEpoch': 15\n",
    "            }\n",
    "args = namedtuple('Args', args_dict.keys())(*args_dict.values())"
   ]
  },
  {
   "cell_type": "markdown",
   "metadata": {},
   "source": [
    "# The Sudoku Datasets"
   ]
  },
  {
   "cell_type": "markdown",
   "metadata": {},
   "source": [
    "We use and/or create the following datasets:\n",
    "* **Sudoku:** We generate 10K 9x9 Sudoku boards (9K test/1K train) using code available [here](https://github.com/Kyubyong/sudoku) and represent them via bit (one-hot) representations.\n",
    "* **Permuted Sudoku:** We apply a fixed permutation to the 10K Sudoku board bit representations generated for the Sudoku experiment.\n",
    "* **Visual Sudoku:** We construct versions of the 10K Sudoku boards generated for the Sudoku experiment in which each board cell is represented by a (randomly-selected) MNIST digit. (MNIST digits are also split into train/test sets, with train and test MNIST digits applied only to train and test Sudoku boards, respectively.)\n",
    "\n",
    "The code below reads and processes these datasets for use with the architectures constructed above. A sample Sudoku board, its associated bit representation, and its associated MNIST representation are displayed below."
   ]
  },
  {
   "cell_type": "code",
   "execution_count": 84,
   "metadata": {},
   "outputs": [],
   "source": [
    "def process_inputs(X, Ximg, Y, boardSz):\n",
    "    is_input = X.sum(dim=3, keepdim=True).expand_as(X).int().sign()\n",
    "\n",
    "    Ximg = Ximg.flatten(start_dim=1, end_dim=2)\n",
    "    Ximg = Ximg.unsqueeze(2).float()\n",
    "\n",
    "    X      = X.view(X.size(0), -1)\n",
    "    Y      = Y.view(Y.size(0), -1)\n",
    "    is_input = is_input.view(is_input.size(0), -1)\n",
    "\n",
    "    return X, Ximg, Y, is_input\n",
    "\n",
    "with open('sudoku/features.pt', 'rb') as f:\n",
    "    X_in = torch.load(f)\n",
    "with open('sudoku/features_img.pt', 'rb') as f:\n",
    "    Ximg_in = torch.load(f)\n",
    "with open('sudoku/labels.pt', 'rb') as f:\n",
    "    Y_in = torch.load(f)\n",
    "with open('sudoku/perm.pt', 'rb') as f:\n",
    "    perm = torch.load(f)\n",
    "\n",
    "X, Ximg, Y, is_input = process_inputs(X_in, Ximg_in, Y_in, args.boardSz)\n",
    "if args.cuda: X, Ximg, is_input, Y = X.cuda(), Ximg.cuda(), is_input.cuda(), Y.cuda()\n",
    "\n",
    "N = X_in.size(0)\n",
    "nTrain = int(N*0.9)\n",
    "\n",
    "sudoku_train = TensorDataset(X[:nTrain], is_input[:nTrain], Y[:nTrain])\n",
    "sudoku_test =  TensorDataset(X[nTrain:], is_input[nTrain:], Y[nTrain:])\n",
    "perm_train = TensorDataset(X[:nTrain,perm], is_input[:nTrain,perm], Y[:nTrain,perm])\n",
    "perm_test =  TensorDataset(X[nTrain:,perm], is_input[nTrain:,perm], Y[nTrain:,perm])\n",
    "mnist_train = TensorDataset(Ximg[:nTrain], is_input[:nTrain], Y[:nTrain])\n",
    "mnist_test =  TensorDataset(Ximg[nTrain:], is_input[nTrain:], Y[nTrain:])"
   ]
  },
  {
   "cell_type": "code",
   "execution_count": 85,
   "metadata": {},
   "outputs": [
    {
     "data": {
      "text/markdown": [
       "## Sudoku"
      ],
      "text/plain": [
       "<IPython.core.display.Markdown object>"
      ]
     },
     "metadata": {},
     "output_type": "display_data"
    },
    {
     "name": "stdout",
     "output_type": "stream",
     "text": [
      "tensor([[6, 7, 0, 0, 0, 0, 0, 0, 5],\n",
      "        [0, 0, 3, 0, 4, 0, 0, 8, 2],\n",
      "        [0, 4, 0, 0, 0, 5, 1, 3, 6],\n",
      "        [0, 0, 0, 7, 3, 0, 0, 9, 0],\n",
      "        [3, 0, 4, 2, 0, 6, 0, 7, 0],\n",
      "        [0, 0, 1, 0, 9, 0, 6, 0, 0],\n",
      "        [5, 0, 9, 0, 0, 8, 0, 0, 0],\n",
      "        [0, 0, 0, 9, 5, 0, 2, 0, 8],\n",
      "        [0, 0, 0, 1, 2, 7, 4, 0, 0]])\n",
      "\n"
     ]
    },
    {
     "data": {
      "text/markdown": [
       "## One-hot encoded Boolean Sudoku"
      ],
      "text/plain": [
       "<IPython.core.display.Markdown object>"
      ]
     },
     "metadata": {},
     "output_type": "display_data"
    },
    {
     "name": "stdout",
     "output_type": "stream",
     "text": [
      "tensor([0., 0., 0., 0., 0., 1., 0., 0., 0., 0., 0., 0., 0., 0., 0., 1., 0., 0.,\n",
      "        0., 0., 0., 0., 0., 0., 0., 0., 0., 0., 0., 0., 0., 0., 0., 0., 0., 0.,\n",
      "        0., 0., 0., 0., 0., 0., 0., 0., 0., 0., 0., 0., 0., 0., 0., 0., 0., 0.,\n",
      "        0., 0., 0., 0., 0., 0., 0., 0., 0., 0., 0., 0., 0., 0., 0., 0., 0., 0.,\n",
      "        0., 0., 0., 0., 1., 0., 0., 0., 0., 0., 0., 0., 0., 0., 0., 0., 0., 0.,\n",
      "        0., 0., 0., 0., 0., 0., 0., 0., 0., 0., 0., 1., 0., 0., 0., 0., 0., 0.,\n",
      "        0., 0., 0., 0., 0., 0., 0., 0., 0., 0., 0., 0., 1., 0., 0., 0., 0., 0.,\n",
      "        0., 0., 0., 0., 0., 0., 0., 0., 0., 0., 0., 0., 0., 0., 0., 0., 0., 0.,\n",
      "        0., 0., 0., 0., 0., 0., 0., 1., 0., 0., 1., 0., 0., 0., 0., 0., 0., 0.,\n",
      "        0., 0., 0., 0., 0., 0., 0., 0., 0., 0., 0., 0., 1., 0., 0., 0., 0., 0.,\n",
      "        0., 0., 0., 0., 0., 0., 0., 0., 0., 0., 0., 0., 0., 0., 0., 0., 0., 0.,\n",
      "        0., 0., 0., 0., 0., 0., 0., 0., 0., 0., 0., 0., 0., 1., 0., 0., 0., 0.,\n",
      "        1., 0., 0., 0., 0., 0., 0., 0., 0., 0., 0., 1., 0., 0., 0., 0., 0., 0.,\n",
      "        0., 0., 0., 0., 0., 1., 0., 0., 0., 0., 0., 0., 0., 0., 0., 0., 0., 0.,\n",
      "        0., 0., 0., 0., 0., 0., 0., 0., 0., 0., 0., 0., 0., 0., 0., 0., 0., 0.,\n",
      "        0., 0., 0., 0., 0., 0., 1., 0., 0., 0., 0., 1., 0., 0., 0., 0., 0., 0.,\n",
      "        0., 0., 0., 0., 0., 0., 0., 0., 0., 0., 0., 0., 0., 0., 0., 0., 0., 0.,\n",
      "        0., 0., 0., 0., 0., 0., 0., 0., 1., 0., 0., 0., 0., 0., 0., 0., 0., 0.,\n",
      "        0., 0., 1., 0., 0., 0., 0., 0., 0., 0., 0., 0., 0., 0., 0., 0., 0., 0.,\n",
      "        0., 0., 0., 1., 0., 0., 0., 0., 0., 0., 1., 0., 0., 0., 0., 0., 0., 0.,\n",
      "        0., 0., 0., 0., 0., 0., 0., 0., 0., 0., 0., 0., 0., 0., 1., 0., 0., 0.,\n",
      "        0., 0., 0., 0., 0., 0., 0., 0., 0., 0., 0., 0., 0., 0., 0., 1., 0., 0.,\n",
      "        0., 0., 0., 0., 0., 0., 0., 0., 0., 0., 0., 0., 0., 0., 0., 0., 0., 0.,\n",
      "        0., 0., 0., 0., 0., 0., 0., 0., 0., 1., 0., 0., 0., 0., 0., 0., 0., 0.,\n",
      "        0., 0., 0., 0., 0., 0., 0., 0., 0., 0., 0., 0., 0., 0., 0., 0., 0., 1.,\n",
      "        0., 0., 0., 0., 0., 0., 0., 0., 0., 0., 0., 0., 0., 0., 1., 0., 0., 0.,\n",
      "        0., 0., 0., 0., 0., 0., 0., 0., 0., 0., 0., 0., 0., 0., 0., 0., 0., 0.,\n",
      "        0., 0., 0., 0., 1., 0., 0., 0., 0., 0., 0., 0., 0., 0., 0., 0., 0., 0.,\n",
      "        0., 0., 0., 0., 0., 0., 0., 0., 1., 0., 0., 0., 0., 0., 0., 0., 0., 0.,\n",
      "        0., 0., 0., 0., 0., 0., 0., 0., 0., 0., 0., 0., 0., 0., 0., 0., 1., 0.,\n",
      "        0., 0., 0., 0., 0., 0., 0., 0., 0., 0., 0., 0., 0., 0., 0., 0., 0., 0.,\n",
      "        0., 0., 0., 0., 0., 0., 0., 0., 0., 0., 0., 0., 0., 0., 0., 0., 0., 0.,\n",
      "        0., 0., 0., 0., 0., 0., 0., 0., 0., 0., 0., 0., 0., 0., 0., 0., 0., 0.,\n",
      "        0., 0., 0., 0., 0., 0., 0., 0., 1., 0., 0., 0., 0., 1., 0., 0., 0., 0.,\n",
      "        0., 0., 0., 0., 0., 0., 0., 0., 0., 0., 1., 0., 0., 0., 0., 0., 0., 0.,\n",
      "        0., 0., 0., 0., 0., 0., 0., 0., 0., 0., 0., 0., 0., 0., 0., 0., 1., 0.,\n",
      "        0., 0., 0., 0., 0., 0., 0., 0., 0., 0., 0., 0., 0., 0., 0., 0., 0., 0.,\n",
      "        0., 0., 0., 0., 0., 0., 0., 0., 0., 1., 0., 0., 0., 0., 0., 0., 0., 0.,\n",
      "        0., 1., 0., 0., 0., 0., 0., 0., 0., 0., 0., 0., 0., 0., 0., 1., 0., 0.,\n",
      "        0., 0., 0., 1., 0., 0., 0., 0., 0., 0., 0., 0., 0., 0., 0., 0., 0., 0.,\n",
      "        0., 0., 0., 0., 0., 0., 0., 0., 0.], device='cuda:0')\n"
     ]
    },
    {
     "data": {
      "text/markdown": [
       "## MNIST Sudoku"
      ],
      "text/plain": [
       "<IPython.core.display.Markdown object>"
      ]
     },
     "metadata": {},
     "output_type": "display_data"
    },
    {
     "data": {
      "image/png": "[encoded data removed]",
      "text/plain": [
       "<Figure size 432x288 with 1 Axes>"
      ]
     },
     "metadata": {
      "needs_background": "light"
     },
     "output_type": "display_data"
    }
   ],
   "source": [
    "def show_sudoku(raw):\n",
    "    return (torch.argmax(raw,2)+1)*(raw.sum(2).long())\n",
    "\n",
    "def show_mnist_sudoku(raw):\n",
    "    A = raw.numpy()\n",
    "    digits = np.concatenate(np.concatenate(A,axis=1), axis=1).astype(np.uint8)\n",
    "    linewidth = 2\n",
    "    board = np.zeros((digits.shape[0]+linewidth*4, digits.shape[1]+linewidth*4), dtype=np.uint8)\n",
    "    gridwidth = digits.shape[0]//3\n",
    "\n",
    "    board[:] = 255\n",
    "    for i in range(3):\n",
    "        for j in range(3):\n",
    "            xoff = linewidth+(linewidth+gridwidth)*i\n",
    "            yoff = linewidth+(linewidth+gridwidth)*j\n",
    "            xst = gridwidth*i\n",
    "            yst = gridwidth*j\n",
    "            board[xoff:xoff+gridwidth, yoff:yoff+gridwidth] = digits[xst:xst+gridwidth, yst:yst+gridwidth]\n",
    "\n",
    "    #img = Image.fromarray(255-board)\n",
    "    plt.imshow(255-board, cmap='gray')\n",
    "\n",
    "display(Markdown('## Sudoku'))\n",
    "print(show_sudoku(X_in[0]))\n",
    "print()\n",
    "display(Markdown('## One-hot encoded Boolean Sudoku'))\n",
    "print(X[0])\n",
    "    \n",
    "display(Markdown('## MNIST Sudoku'))\n",
    "show_mnist_sudoku(Ximg_in[0])"
   ]
  },
  {
   "cell_type": "markdown",
   "metadata": {},
   "source": [
    "## Reviewing at the train/test set"
   ]
  },
  {
   "cell_type": "code",
   "execution_count": 23,
   "metadata": {},
   "outputs": [
    {
     "data": {
      "text/plain": [
       "'41.98 %'"
      ]
     },
     "execution_count": 23,
     "metadata": {},
     "output_type": "execute_result"
    }
   ],
   "source": [
    "# % of filled cells in the first example\n",
    "a = show_sudoku(X_in[0])\n",
    "'{:.2f}'.format(int((a != 0).sum()) / (9*9) * 100) + ' %'"
   ]
  },
  {
   "cell_type": "code",
   "execution_count": 24,
   "metadata": {},
   "outputs": [],
   "source": [
    "all_per = []\n",
    "for i in range(X_in.shape[0]):\n",
    "    all_per.append(int((show_sudoku(X_in[i]) != 0).sum()) / 81)"
   ]
  },
  {
   "cell_type": "code",
   "execution_count": 25,
   "metadata": {},
   "outputs": [],
   "source": [
    "import pandas as pd\n",
    "all_per = pd.Series(all_per)"
   ]
  },
  {
   "cell_type": "code",
   "execution_count": 26,
   "metadata": {},
   "outputs": [
    {
     "data": {
      "image/png": "[encoded data removed]",
      "text/plain": [
       "<Figure size 432x288 with 1 Axes>"
      ]
     },
     "metadata": {
      "needs_background": "light"
     },
     "output_type": "display_data"
    }
   ],
   "source": [
    "# % of filled cells over all samples\n",
    "ax = all_per.plot.hist(bins=12, title='% of filled cells')"
   ]
  },
  {
   "cell_type": "code",
   "execution_count": 27,
   "metadata": {},
   "outputs": [
    {
     "data": {
      "text/plain": [
       "36    2752\n",
       "37    2383\n",
       "35    1949\n",
       "38    1222\n",
       "34     838\n",
       "39     458\n",
       "33     232\n",
       "40     107\n",
       "32      46\n",
       "41       8\n",
       "31       3\n",
       "42       2\n",
       "dtype: int64"
      ]
     },
     "execution_count": 27,
     "metadata": {},
     "output_type": "execute_result"
    }
   ],
   "source": [
    "all_cnt = []\n",
    "for i in range(X_in.shape[0]):\n",
    "    all_cnt.append(int((show_sudoku(X_in[i]) != 0).sum()))\n",
    "all_cnt = pd.Series(all_cnt)\n",
    "all_cnt.value_counts()"
   ]
  },
  {
   "cell_type": "code",
   "execution_count": 29,
   "metadata": {},
   "outputs": [
    {
     "data": {
      "image/png": "[encoded data removed]",
      "text/plain": [
       "<Figure size 432x288 with 1 Axes>"
      ]
     },
     "metadata": {
      "needs_background": "light"
     },
     "output_type": "display_data"
    }
   ],
   "source": [
    "ax = all_cnt.plot.hist(bins=12, title='# of filled cells')"
   ]
  },
  {
   "cell_type": "markdown",
   "metadata": {},
   "source": [
    "### Compare train/test set"
   ]
  },
  {
   "cell_type": "code",
   "execution_count": 31,
   "metadata": {},
   "outputs": [],
   "source": [
    "# !pip install kaggle"
   ]
  },
  {
   "cell_type": "code",
   "execution_count": 35,
   "metadata": {},
   "outputs": [
    {
     "name": "stdout",
     "output_type": "stream",
     "text": [
      "Downloading sudoku.zip to /home/user/projects/SATNet/notebooks\n",
      " 98%|█████████████████████████████████████▍| 67.0M/68.1M [00:05<00:00, 12.5MB/s]\n",
      "100%|██████████████████████████████████████| 68.1M/68.1M [00:05<00:00, 12.8MB/s]\n"
     ]
    }
   ],
   "source": [
    "!kaggle datasets download bryanpark/sudoku  --unzip"
   ]
  },
  {
   "cell_type": "code",
   "execution_count": 37,
   "metadata": {},
   "outputs": [
    {
     "data": {
      "text/plain": [
       "(1000000, 2)"
      ]
     },
     "execution_count": 37,
     "metadata": {},
     "output_type": "execute_result"
    }
   ],
   "source": [
    "kaggle_sudoku = pd.read_csv('./sudoku.csv')\n",
    "kaggle_sudoku.shape"
   ]
  },
  {
   "cell_type": "code",
   "execution_count": 39,
   "metadata": {},
   "outputs": [
    {
     "data": {
      "text/html": [
       "<div>\n",
       "<style scoped>\n",
       "    .dataframe tbody tr th:only-of-type {\n",
       "        vertical-align: middle;\n",
       "    }\n",
       "\n",
       "    .dataframe tbody tr th {\n",
       "        vertical-align: top;\n",
       "    }\n",
       "\n",
       "    .dataframe thead th {\n",
       "        text-align: right;\n",
       "    }\n",
       "</style>\n",
       "<table border=\"1\" class=\"dataframe\">\n",
       "  <thead>\n",
       "    <tr style=\"text-align: right;\">\n",
       "      <th></th>\n",
       "      <th>quizzes</th>\n",
       "      <th>solutions</th>\n",
       "    </tr>\n",
       "  </thead>\n",
       "  <tbody>\n",
       "    <tr>\n",
       "      <th>0</th>\n",
       "      <td>0043002090050090010700600430060020871900074000...</td>\n",
       "      <td>8643712593258497619712658434361925871986574322...</td>\n",
       "    </tr>\n",
       "    <tr>\n",
       "      <th>1</th>\n",
       "      <td>0401000501070039605200080000000000170009068008...</td>\n",
       "      <td>3461792581875239645296483719658324174729168358...</td>\n",
       "    </tr>\n",
       "    <tr>\n",
       "      <th>2</th>\n",
       "      <td>6001203840084590720000060050002640300700800069...</td>\n",
       "      <td>6951273841384596727248369158512647392739815469...</td>\n",
       "    </tr>\n",
       "    <tr>\n",
       "      <th>3</th>\n",
       "      <td>4972000001004000050000160986203000403009000000...</td>\n",
       "      <td>4972583161864397252537164986293815473759641828...</td>\n",
       "    </tr>\n",
       "    <tr>\n",
       "      <th>4</th>\n",
       "      <td>0059103080094030600275001000300002010008200070...</td>\n",
       "      <td>4659123781894735623275681497386452919548216372...</td>\n",
       "    </tr>\n",
       "  </tbody>\n",
       "</table>\n",
       "</div>"
      ],
      "text/plain": [
       "                                             quizzes  \\\n",
       "0  0043002090050090010700600430060020871900074000...   \n",
       "1  0401000501070039605200080000000000170009068008...   \n",
       "2  6001203840084590720000060050002640300700800069...   \n",
       "3  4972000001004000050000160986203000403009000000...   \n",
       "4  0059103080094030600275001000300002010008200070...   \n",
       "\n",
       "                                           solutions  \n",
       "0  8643712593258497619712658434361925871986574322...  \n",
       "1  3461792581875239645296483719658324174729168358...  \n",
       "2  6951273841384596727248369158512647392739815469...  \n",
       "3  4972583161864397252537164986293815473759641828...  \n",
       "4  4659123781894735623275681497386452919548216372...  "
      ]
     },
     "execution_count": 39,
     "metadata": {},
     "output_type": "execute_result"
    }
   ],
   "source": [
    "kaggle_sudoku.head()"
   ]
  },
  {
   "cell_type": "code",
   "execution_count": 43,
   "metadata": {},
   "outputs": [
    {
     "name": "stdout",
     "output_type": "stream",
     "text": [
      "CPU times: user 26.3 s, sys: 187 ms, total: 26.5 s\n",
      "Wall time: 26.5 s\n"
     ]
    },
    {
     "data": {
      "text/plain": [
       "0    [0, 0, 4, 3, 0, 0, 2, 0, 9, 0, 0, 5, 0, 0, 9, ...\n",
       "1    [0, 4, 0, 1, 0, 0, 0, 5, 0, 1, 0, 7, 0, 0, 3, ...\n",
       "2    [6, 0, 0, 1, 2, 0, 3, 8, 4, 0, 0, 8, 4, 5, 9, ...\n",
       "3    [4, 9, 7, 2, 0, 0, 0, 0, 0, 1, 0, 0, 4, 0, 0, ...\n",
       "4    [0, 0, 5, 9, 1, 0, 3, 0, 8, 0, 0, 9, 4, 0, 3, ...\n",
       "Name: quizzes, dtype: object"
      ]
     },
     "execution_count": 43,
     "metadata": {},
     "output_type": "execute_result"
    }
   ],
   "source": [
    "%%time\n",
    "quizzes = kaggle_sudoku.quizzes.apply(lambda x: np.array(list(x)).astype(int))\n",
    "quizzes.head()"
   ]
  },
  {
   "cell_type": "code",
   "execution_count": 46,
   "metadata": {},
   "outputs": [
    {
     "name": "stdout",
     "output_type": "stream",
     "text": [
      "CPU times: user 728 ms, sys: 3.99 ms, total: 732 ms\n",
      "Wall time: 731 ms\n"
     ]
    }
   ],
   "source": [
    "%%time\n",
    "kaggle_cnt = quizzes.apply(lambda x: np.count_nonzero(x))"
   ]
  },
  {
   "cell_type": "code",
   "execution_count": 52,
   "metadata": {},
   "outputs": [
    {
     "data": {
      "image/png": "[encoded data removed]",
      "text/plain": [
       "<Figure size 432x288 with 1 Axes>"
      ]
     },
     "metadata": {
      "needs_background": "light"
     },
     "output_type": "display_data"
    }
   ],
   "source": [
    "ax = kaggle_cnt.plot.hist(bins=7, title='kaggle dataset # of filled cells')"
   ]
  },
  {
   "cell_type": "markdown",
   "metadata": {},
   "source": [
    "# The 9x9 Sudoku Experiment"
   ]
  },
  {
   "cell_type": "markdown",
   "metadata": {},
   "source": [
    "The results for our 9x9 Sudoku experiment are below. In this experiment, we:\n",
    "* **Input** a logical (bit) representation of the initial (unsolved) Sudoku board along with a mask representing which bits must be learned (i.e. all bits in empty Sudoku cells). This input is vectorized, which means that our SATNet model cannot exploit the locality structure of the input Sudoku grid when learning to solve puzzles.\n",
    "* **Output** a bit representation of the Sudoku board with guesses for the unknown bits."
   ]
  },
  {
   "cell_type": "code",
   "execution_count": 54,
   "metadata": {},
   "outputs": [],
   "source": [
    "%%capture\n",
    "sudoku_model = SudokuSolver(args.boardSz, args.aux, args.m)\n",
    "if args.cuda: sudoku_model = sudoku_model.cuda()\n",
    "    \n",
    "optimizer = optim.Adam(sudoku_model.parameters(), lr=args.lr)\n",
    "\n",
    "fig, axes = plt.subplots(1,2, figsize=(10,4))\n",
    "plt.subplots_adjust(wspace=0.4)\n",
    "train_logger = FigLogger(fig, axes[0], 'Traininig')\n",
    "test_logger = FigLogger(fig, axes[1], 'Testing')"
   ]
  },
  {
   "cell_type": "code",
   "execution_count": 55,
   "metadata": {},
   "outputs": [
    {
     "data": {
      "image/png": "[encoded data removed]",
      "text/plain": [
       "<Figure size 720x288 with 4 Axes>"
      ]
     },
     "metadata": {},
     "output_type": "display_data"
    },
    {
     "name": "stdout",
     "output_type": "stream",
     "text": [
      "CPU times: user 19min 13s, sys: 5min 25s, total: 24min 38s\n",
      "Wall time: 24min 38s\n"
     ]
    }
   ],
   "source": [
    "%%time\n",
    "test(args.boardSz, 0, sudoku_model, optimizer, test_logger, sudoku_test, args.batchSz)\n",
    "for epoch in range(1, args.nEpoch+1):\n",
    "    train(args.boardSz, epoch, sudoku_model, optimizer, train_logger, sudoku_train, args.batchSz)\n",
    "    test(args.boardSz, epoch, sudoku_model, optimizer, test_logger, sudoku_test, args.batchSz)\n",
    "    clear_output()\n",
    "    display(fig)"
   ]
  },
  {
   "cell_type": "code",
   "execution_count": 56,
   "metadata": {},
   "outputs": [
    {
     "data": {
      "text/plain": [
       "Args(lr=0.002, cuda=True, batchSz=128, mnistBatchSz=50, boardSz=3, m=600, aux=300, nEpoch=15)"
      ]
     },
     "execution_count": 56,
     "metadata": {},
     "output_type": "execute_result"
    }
   ],
   "source": [
    "args"
   ]
  },
  {
   "cell_type": "code",
   "execution_count": 87,
   "metadata": {},
   "outputs": [],
   "source": [
    "# predict the first puzzle in the dataset\n",
    "puzzle1 = sudoku_model(X[0:1], is_input[0:1])[0].cpu().detach().numpy()"
   ]
  },
  {
   "cell_type": "code",
   "execution_count": 91,
   "metadata": {},
   "outputs": [],
   "source": [
    "puzzle1 = np.reshape(puzzle1,[9,9,9])#.argmax(axis=0)+1"
   ]
  },
  {
   "cell_type": "code",
   "execution_count": 92,
   "metadata": {},
   "outputs": [
    {
     "name": "stdout",
     "output_type": "stream",
     "text": [
      "[6 7 8 3 1 2 9 4 5]\n",
      "[1 5 3 6 4 9 7 8 2]\n",
      "[9 4 2 8 7 5 1 3 6]\n",
      "[2 6 5 7 3 1 8 9 4]\n",
      "[3 9 4 2 8 6 5 7 1]\n",
      "[7 8 1 5 9 4 6 2 3]\n",
      "[5 2 9 4 6 8 3 1 7]\n",
      "[4 1 7 9 5 3 2 6 8]\n",
      "[8 3 6 1 2 7 4 5 9]\n"
     ]
    }
   ],
   "source": [
    "# print solution\n",
    "for i in range(9):\n",
    "    print(puzzle1[i].argmax(axis=1)+1)"
   ]
  },
  {
   "cell_type": "code",
   "execution_count": 93,
   "metadata": {},
   "outputs": [
    {
     "name": "stdout",
     "output_type": "stream",
     "text": [
      "tensor([6, 7, 8, 3, 1, 2, 9, 4, 5])\n",
      "tensor([1, 5, 3, 6, 4, 9, 7, 8, 2])\n",
      "tensor([9, 4, 2, 8, 7, 5, 1, 3, 6])\n",
      "tensor([2, 6, 5, 7, 3, 1, 8, 9, 4])\n",
      "tensor([3, 9, 4, 2, 8, 6, 5, 7, 1])\n",
      "tensor([7, 8, 1, 5, 9, 4, 6, 2, 3])\n",
      "tensor([5, 2, 9, 4, 6, 8, 3, 1, 7])\n",
      "tensor([4, 1, 7, 9, 5, 3, 2, 6, 8])\n",
      "tensor([8, 3, 6, 1, 2, 7, 4, 5, 9])\n"
     ]
    }
   ],
   "source": [
    "# print answer\n",
    "for i in range(9):\n",
    "    print(Y_in[0][i].argmax(axis=1)+1)"
   ]
  },
  {
   "cell_type": "code",
   "execution_count": 94,
   "metadata": {},
   "outputs": [
    {
     "data": {
      "text/plain": [
       "array([[0, 0, 4, 3, 0, 0, 2, 0, 9],\n",
       "       [0, 0, 5, 0, 0, 9, 0, 0, 1],\n",
       "       [0, 7, 0, 0, 6, 0, 0, 4, 3],\n",
       "       [0, 0, 6, 0, 0, 2, 0, 8, 7],\n",
       "       [1, 9, 0, 0, 0, 7, 4, 0, 0],\n",
       "       [0, 5, 0, 0, 8, 3, 0, 0, 0],\n",
       "       [6, 0, 0, 0, 0, 0, 1, 0, 5],\n",
       "       [0, 0, 3, 5, 0, 8, 6, 9, 0],\n",
       "       [0, 4, 2, 9, 1, 0, 3, 0, 0]])"
      ]
     },
     "execution_count": 94,
     "metadata": {},
     "output_type": "execute_result"
    }
   ],
   "source": [
    "# try another puzzle\n",
    "a = np.array(list('004300209005009001070060043006002087190007400050083000600000105003508690042910300')).astype(int)\n",
    "b = np.reshape(a, [9,9])\n",
    "b"
   ]
  },
  {
   "cell_type": "code",
   "execution_count": 95,
   "metadata": {},
   "outputs": [
    {
     "data": {
      "text/plain": [
       "35"
      ]
     },
     "execution_count": 95,
     "metadata": {},
     "output_type": "execute_result"
    }
   ],
   "source": [
    "(b != 0).sum()"
   ]
  },
  {
   "cell_type": "code",
   "execution_count": 119,
   "metadata": {},
   "outputs": [],
   "source": [
    "t = []\n",
    "for i in range(9):\n",
    "    t.append(np.eye(10)[b[i]][:,1:])"
   ]
  },
  {
   "cell_type": "code",
   "execution_count": 158,
   "metadata": {},
   "outputs": [],
   "source": [
    "ts = torch.tensor([t], dtype=torch.float32)"
   ]
  },
  {
   "cell_type": "code",
   "execution_count": 159,
   "metadata": {},
   "outputs": [],
   "source": [
    "mask = ts.sum(dim=3, keepdim=True).expand_as(ts).int().sign()"
   ]
  },
  {
   "cell_type": "code",
   "execution_count": 163,
   "metadata": {},
   "outputs": [],
   "source": [
    "#flatten\n",
    "ts = ts.view(ts.size(0), -1).cuda()\n",
    "mask = mask.view(mask.size(0), -1).cuda()"
   ]
  },
  {
   "cell_type": "code",
   "execution_count": 164,
   "metadata": {},
   "outputs": [
    {
     "data": {
      "text/plain": [
       "(torch.Size([1, 729]), torch.Size([1, 729]))"
      ]
     },
     "execution_count": 164,
     "metadata": {},
     "output_type": "execute_result"
    }
   ],
   "source": [
    "ts.shape, mask.shape"
   ]
  },
  {
   "cell_type": "code",
   "execution_count": 167,
   "metadata": {},
   "outputs": [],
   "source": [
    "puzzle2 = sudoku_model(ts, mask).cpu().detach().numpy()"
   ]
  },
  {
   "cell_type": "code",
   "execution_count": 168,
   "metadata": {},
   "outputs": [
    {
     "name": "stdout",
     "output_type": "stream",
     "text": [
      "[8 6 4 3 7 1 2 5 9]\n",
      "[3 2 5 8 4 9 7 6 1]\n",
      "[9 7 1 2 6 5 8 4 3]\n",
      "[4 3 6 1 9 2 5 8 7]\n",
      "[1 9 8 6 5 7 4 3 2]\n",
      "[2 5 7 4 8 3 9 1 6]\n",
      "[6 8 9 7 3 4 1 2 5]\n",
      "[7 1 3 5 2 8 6 9 4]\n",
      "[5 4 2 9 1 6 3 7 8]\n"
     ]
    }
   ],
   "source": [
    "puzzle2 = np.reshape(puzzle2,[9,9,9])\n",
    "# print solution\n",
    "for i in range(9):\n",
    "    print(puzzle2[i].argmax(axis=1)+1)"
   ]
  },
  {
   "cell_type": "code",
   "execution_count": 170,
   "metadata": {},
   "outputs": [
    {
     "data": {
      "text/plain": [
       "array([[0, 0, 4, 3, 0, 0, 2, 0, 9],\n",
       "       [0, 0, 5, 0, 0, 9, 0, 0, 1],\n",
       "       [0, 7, 0, 0, 6, 0, 0, 4, 3],\n",
       "       [0, 0, 6, 0, 0, 2, 0, 8, 7],\n",
       "       [1, 9, 0, 0, 0, 7, 4, 0, 0],\n",
       "       [0, 5, 0, 0, 8, 3, 0, 0, 0],\n",
       "       [6, 0, 0, 0, 0, 0, 1, 0, 5],\n",
       "       [0, 0, 3, 5, 0, 8, 6, 9, 0],\n",
       "       [0, 4, 2, 9, 1, 0, 3, 0, 0]])"
      ]
     },
     "execution_count": 170,
     "metadata": {},
     "output_type": "execute_result"
    }
   ],
   "source": [
    "# hadest sudoku: http://forum.enjoysudoku.com/an-elementary-solution-of-platinium-blonde-t32949.html\n",
    "platinum_blonde = '000000012000000003002300400001800005060070800000009000008500000900040500470006000'\n",
    "pb = np.reshape(a, [9,9])\n",
    "pb"
   ]
  },
  {
   "cell_type": "code",
   "execution_count": 171,
   "metadata": {},
   "outputs": [
    {
     "data": {
      "text/plain": [
       "35"
      ]
     },
     "execution_count": 171,
     "metadata": {},
     "output_type": "execute_result"
    }
   ],
   "source": [
    "(pb != 0).sum()"
   ]
  },
  {
   "cell_type": "code",
   "execution_count": 185,
   "metadata": {},
   "outputs": [],
   "source": [
    "def solve_puzzle(puzzle):\n",
    "    t = []\n",
    "    for i in range(9):\n",
    "        t.append(np.eye(10)[puzzle[i]][:,1:])\n",
    "    ts = torch.tensor([t], dtype=torch.float32)\n",
    "    mask = ts.sum(dim=3, keepdim=True).expand_as(ts).int().sign()\n",
    "    #flatten\n",
    "    ts = ts.view(ts.size(0), -1).cuda()\n",
    "    mask = mask.view(mask.size(0), -1).cuda()\n",
    "    answer = sudoku_model(ts, mask).cpu().detach().numpy()\n",
    "    answer = np.reshape(puzzle2,[9,9,9])\n",
    "    # print solution\n",
    "    ans = []\n",
    "    for i in range(9):\n",
    "        ans.append(answer[i].argmax(axis=1)+1)\n",
    "    return ans"
   ]
  },
  {
   "cell_type": "code",
   "execution_count": 186,
   "metadata": {},
   "outputs": [],
   "source": [
    "ans = solve_puzzle(pb)"
   ]
  },
  {
   "cell_type": "code",
   "execution_count": 187,
   "metadata": {},
   "outputs": [
    {
     "data": {
      "text/plain": [
       "[array([8, 6, 4, 3, 7, 1, 2, 5, 9]),\n",
       " array([3, 2, 5, 8, 4, 9, 7, 6, 1]),\n",
       " array([9, 7, 1, 2, 6, 5, 8, 4, 3]),\n",
       " array([4, 3, 6, 1, 9, 2, 5, 8, 7]),\n",
       " array([1, 9, 8, 6, 5, 7, 4, 3, 2]),\n",
       " array([2, 5, 7, 4, 8, 3, 9, 1, 6]),\n",
       " array([6, 8, 9, 7, 3, 4, 1, 2, 5]),\n",
       " array([7, 1, 3, 5, 2, 8, 6, 9, 4]),\n",
       " array([5, 4, 2, 9, 1, 6, 3, 7, 8])]"
      ]
     },
     "execution_count": 187,
     "metadata": {},
     "output_type": "execute_result"
    }
   ],
   "source": [
    "ans"
   ]
  },
  {
   "cell_type": "code",
   "execution_count": 192,
   "metadata": {},
   "outputs": [],
   "source": [
    "import itertools\n",
    "\n",
    "def sudoku_ok(line):\n",
    "    return (len(line) == 9 and sum(line) == sum(set(line)))\n",
    "\n",
    "def check_sudoku(grid):\n",
    "    bad_rows = [row for row in grid if not sudoku_ok(row)]\n",
    "    grid = list(zip(*grid))\n",
    "    bad_cols = [col for col in grid if not sudoku_ok(col)]\n",
    "    squares = []\n",
    "    for i in range(0,9,3):\n",
    "        for j in range(0,9,3):\n",
    "          square = list(itertools.chain(row[j:j+3] for row in grid[i:i+3]))\n",
    "          squares.append(square)\n",
    "    bad_squares = [square for square in squares if not sudoku_ok(square)]\n",
    "    return not (bad_rows or bad_cols or bad_squares)"
   ]
  },
  {
   "cell_type": "code",
   "execution_count": 193,
   "metadata": {},
   "outputs": [
    {
     "data": {
      "text/plain": [
       "False"
      ]
     },
     "execution_count": 193,
     "metadata": {},
     "output_type": "execute_result"
    }
   ],
   "source": [
    "check_sudoku(ans)"
   ]
  },
  {
   "cell_type": "markdown",
   "metadata": {},
   "source": [
    "# The Permuted 9x9 Sudoku Experiment"
   ]
  },
  {
   "cell_type": "markdown",
   "metadata": {},
   "source": [
    "The results for our permuted 9x9 Sudoku experiment are below. In this experiment, we:\n",
    "* **Input** the same inputs as in the original 9x9 Sudoku experiment, but with a fixed permutation applied.\n",
    "* **Output** a bit representation of the permuted Sudoku board with guesses for the unknown bits."
   ]
  },
  {
   "cell_type": "code",
   "execution_count": 10,
   "metadata": {},
   "outputs": [],
   "source": [
    "%%capture\n",
    "perm_model = SudokuSolver(args.boardSz, args.aux, args.m)\n",
    "if args.cuda: perm_model = perm_model.cuda()\n",
    "    \n",
    "optimizer = optim.Adam(perm_model.parameters(), lr=args.lr)\n",
    "\n",
    "fig, axes = plt.subplots(1,2, figsize=(10,4))\n",
    "plt.subplots_adjust(wspace=0.4)\n",
    "train_logger = FigLogger(fig, axes[0], 'Traininig')\n",
    "test_logger = FigLogger(fig, axes[1], 'Testing')"
   ]
  },
  {
   "cell_type": "code",
   "execution_count": 11,
   "metadata": {},
   "outputs": [
    {
     "data": {
      "image/png": "[encoded data removed]",
      "text/plain": [
       "<Figure size 720x288 with 4 Axes>"
      ]
     },
     "metadata": {},
     "output_type": "display_data"
    }
   ],
   "source": [
    "unperm = find_unperm(perm)\n",
    "test(args.boardSz, 0, perm_model, optimizer, test_logger, perm_test, args.batchSz, unperm)\n",
    "for epoch in range(1, args.nEpoch+1):\n",
    "    train(args.boardSz, epoch, perm_model, optimizer, train_logger, perm_train, args.batchSz, unperm)\n",
    "    test(args.boardSz, epoch, perm_model, optimizer, test_logger, perm_test, args.batchSz, unperm)\n",
    "    clear_output()\n",
    "    display(fig)"
   ]
  },
  {
   "cell_type": "markdown",
   "metadata": {},
   "source": [
    "# The End-to-End MNIST Sudoku (\"Visual Sudoku\") Experiment"
   ]
  },
  {
   "cell_type": "markdown",
   "metadata": {},
   "source": [
    "The results for our permuted 9x9 Sudoku experiment are below. In this experiment, we:\n",
    "* **Input** an image representation of the initial (unsolved) Sudoku board.\n",
    "* **Output** a bit representation of the Sudoku board with guesses for the unknown bits."
   ]
  },
  {
   "cell_type": "code",
   "execution_count": 12,
   "metadata": {},
   "outputs": [],
   "source": [
    "%%capture\n",
    "mnist_sudoku = MNISTSudokuSolver(args.boardSz, args.aux, args.m)\n",
    "if args.cuda: mnist_sudoku = mnist_sudoku.cuda()\n",
    "    \n",
    "optimizer = optim.Adam([\n",
    "            {'params': mnist_sudoku.sudoku_solver.parameters(), 'lr': args.lr},\n",
    "            {'params': mnist_sudoku.digit_convnet.parameters(), 'lr': 1e-5},\n",
    "            ])\n",
    "\n",
    "fig, axes = plt.subplots(1,2, figsize=(10,4))\n",
    "plt.subplots_adjust(wspace=0.4)\n",
    "train_logger = FigLogger(fig, axes[0], 'Traininig')\n",
    "test_logger = FigLogger(fig, axes[1], 'Testing')"
   ]
  },
  {
   "cell_type": "code",
   "execution_count": 13,
   "metadata": {},
   "outputs": [
    {
     "data": {
      "image/png": "[encoded data removed]",
      "text/plain": [
       "<Figure size 720x288 with 4 Axes>"
      ]
     },
     "metadata": {},
     "output_type": "display_data"
    }
   ],
   "source": [
    "test(args.boardSz, 0, mnist_sudoku, optimizer, test_logger, mnist_test, args.mnistBatchSz)\n",
    "for epoch in range(1, args.nEpoch+1):\n",
    "    train(args.boardSz, epoch, mnist_sudoku, optimizer, train_logger, mnist_train, args.mnistBatchSz)\n",
    "    test(args.boardSz, epoch, mnist_sudoku, optimizer, test_logger, mnist_test, args.mnistBatchSz)\n",
    "    clear_output()\n",
    "    display(fig)"
   ]
  },
  {
   "cell_type": "code",
   "execution_count": null,
   "metadata": {},
   "outputs": [],
   "source": []
  }
 ],
 "metadata": {
  "kernelspec": {
   "display_name": "pytorch",
   "language": "python",
   "name": "pytorch"
  },
  "language_info": {
   "codemirror_mode": {
    "name": "ipython",
    "version": 3
   },
   "file_extension": ".py",
   "mimetype": "text/x-python",
   "name": "python",
   "nbconvert_exporter": "python",
   "pygments_lexer": "ipython3",
   "version": "3.7.6"
  }
 },
 "nbformat": 4,
 "nbformat_minor": 4
}
